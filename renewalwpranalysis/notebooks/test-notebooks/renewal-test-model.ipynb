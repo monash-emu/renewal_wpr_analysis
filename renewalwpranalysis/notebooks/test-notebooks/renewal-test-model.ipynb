{
 "cells": [
  {
   "cell_type": "code",
   "execution_count": null,
   "id": "66eaa515",
   "metadata": {},
   "outputs": [],
   "source": [
    "from jax import jit, random"
   ]
  },
  {
   "cell_type": "code",
   "execution_count": null,
   "id": "cada8133",
   "metadata": {},
   "outputs": [],
   "source": [
    "import pandas as pd"
   ]
  },
  {
   "cell_type": "code",
   "execution_count": null,
   "id": "72a8f332-d6f0-4010-9f36-4a2555490a45",
   "metadata": {},
   "outputs": [],
   "source": [
    "from jax import jit, random\n",
    "import pandas as pd\n",
    "from datetime import datetime, timedelta\n",
    "import numpyro\n",
    "from numpyro import distributions as dist\n",
    "from numpyro import infer\n",
    "import arviz as az\n",
    "from IPython.display import Markdown\n",
    "from plotly.express.colors import qualitative as qual_colours\n",
    "import pathlib\n",
    "import math\n",
    "\n",
    "from estival.sampling import tools as esamp\n",
    "\n",
    "from emu_renewal.process import CosineMultiCurve\n",
    "from emu_renewal.distributions import GammaDens\n",
    "from emu_renewal.renew import RenewalModel\n",
    "from emu_renewal.outputs import get_spaghetti_from_params, get_quant_df_from_spaghetti, plot_spaghetti\n",
    "from emu_renewal.outputs import plot_uncertainty_patches, PANEL_SUBTITLES, plot_3d_spaghetti, plot_post_prior_comparison\n",
    "from emu_renewal.calibration import StandardCalib\n",
    "from emu_renewal.utils import get_adjust_idata_index, adjust_summary_cols"
   ]
  },
  {
   "cell_type": "code",
   "execution_count": null,
   "id": "cd874088",
   "metadata": {},
   "outputs": [],
   "source": [
    "from pathlib import Path"
   ]
  },
  {
   "cell_type": "code",
   "execution_count": null,
   "id": "a0bf2df8",
   "metadata": {},
   "outputs": [],
   "source": [
    "import renewal_analysis\n",
    "ra_path = Path(renewal_analysis.__path__[0])"
   ]
  },
  {
   "cell_type": "code",
   "execution_count": null,
   "id": "68d7236f-94e1-473f-8709-0297902bcb3d",
   "metadata": {},
   "outputs": [],
   "source": [
    "# Set path to target data from WHO weekly time series\n",
    "target_data_path = ra_path / 'data/target-data/case-data.csv'"
   ]
  },
  {
   "cell_type": "code",
   "execution_count": null,
   "id": "2787857b-b8ca-4770-b98e-b1703aba01ee",
   "metadata": {},
   "outputs": [],
   "source": [
    "# Load in target data from WHO weekly time series\n",
    "data = pd.read_csv(target_data_path, index_col=0)\n",
    "data.index = pd.to_datetime(data.index)\n",
    "\n",
    "# Also load daily time series data from owid\n",
    "mys_data_daily = pd.read_csv(\"https://github.com/monash-emu/wpro_working/raw/main/data/new_cases.csv\", index_col=0)[\"MYS\"]\n",
    "mys_data_daily.index = pd.to_datetime(mys_data_daily.index)"
   ]
  },
  {
   "cell_type": "code",
   "execution_count": null,
   "id": "fe5357d4-1885-4101-a6b3-e989dba387c9",
   "metadata": {},
   "outputs": [],
   "source": [
    "data"
   ]
  },
  {
   "cell_type": "code",
   "execution_count": null,
   "id": "bbbb5afd-4d3f-49b0-8aee-b1167f5bc9c9",
   "metadata": {},
   "outputs": [],
   "source": [
    "# explore different data methods"
   ]
  },
  {
   "cell_type": "code",
   "execution_count": null,
   "id": "17d27dac-09b7-4598-a59c-6e8481cb46d8",
   "metadata": {},
   "outputs": [],
   "source": [
    "# Method 1 - Interpolate over cumulative weekly time series\n",
    "mys_data_1 = data['Cumulative_cases_MYS']\n",
    "mys_data_1 = mys_data_1.resample('D').interpolate()\n",
    "mys_data_1 = mys_data_1.diff(1)"
   ]
  },
  {
   "cell_type": "code",
   "execution_count": null,
   "id": "70936f3a-a57b-4af4-9164-0003cfa818c2",
   "metadata": {},
   "outputs": [],
   "source": [
    "# Method 2 - Interpolate over weekly non-cumulative time series, and take average\n",
    "mys_data_2 = data['New_cases_MYS']\n",
    "mys_data_2 = mys_data_2.resample('D').interpolate()/7"
   ]
  },
  {
   "cell_type": "code",
   "execution_count": null,
   "id": "0f21f9ee-cbf4-40bc-9ed0-907d079af851",
   "metadata": {},
   "outputs": [],
   "source": [
    "# Method 3 - take the average of weekly non-cumulative time series, add add lag to midweek\n",
    "mys_data_3 = data['New_cases_MYS']/7\n",
    "mys_data_3 = mys_data_3.shift(-3)"
   ]
  },
  {
   "cell_type": "code",
   "execution_count": null,
   "id": "88facc89-18c3-4a92-8ced-b524465da91d",
   "metadata": {},
   "outputs": [],
   "source": [
    "# Specify fixed parameters and get calibration data\n",
    "proc_update_freq = 14\n",
    "init_time = 50\n",
    "mys_data = data['New_cases_MYS']\n",
    "pop = 33e6\n",
    "analysis_start = datetime(2021, 3, 1)\n",
    "analysis_end = datetime(2021, 11, 1)\n",
    "init_start = analysis_start - timedelta(init_time)\n",
    "init_end = analysis_start - timedelta(1)\n",
    "select_data = mys_data.loc[analysis_start: analysis_end]\n",
    "init_data = mys_data.loc[init_start: init_end]"
   ]
  },
  {
   "cell_type": "code",
   "execution_count": null,
   "id": "9d2d9502-7e50-4419-b09a-a8fb2eda564a",
   "metadata": {},
   "outputs": [],
   "source": [
    "proc_fitter = CosineMultiCurve()\n",
    "renew_model = RenewalModel(33e6, analysis_start, analysis_end, proc_update_freq, proc_fitter, GammaDens(), 50, init_data, GammaDens())"
   ]
  },
  {
   "cell_type": "code",
   "execution_count": null,
   "id": "9373d7cf-f83a-4d4f-979a-ca962b5f5ec9",
   "metadata": {},
   "outputs": [],
   "source": [
    "report_mean = 3.18\n",
    "report_sd = math.sqrt(10.33)"
   ]
  },
  {
   "cell_type": "code",
   "execution_count": null,
   "id": "a24e7449-6f46-4e09-8015-058e530de974",
   "metadata": {},
   "outputs": [],
   "source": [
    "report_sd"
   ]
  },
  {
   "cell_type": "code",
   "execution_count": null,
   "id": "70614c05-0085-4254-97eb-eee1eec23cac",
   "metadata": {},
   "outputs": [],
   "source": [
    "report_sd**2"
   ]
  },
  {
   "cell_type": "code",
   "execution_count": null,
   "id": "26fc2f8a-e10f-47d6-83b0-0ffc8c8cde30",
   "metadata": {},
   "outputs": [],
   "source": [
    "# Function for computing sd from 95%ci\n",
    "def compute_parameter_sd(mean, mean_ui, sd, sd_ui):\n",
    "    mean_sd = (mean_ui - mean)/2\n",
    "    mean_v = mean_sd**2\n",
    "    sd_sd = (sd_ui - sd)/2\n",
    "    sd_v = sd_sd**2\n",
    "    return mean_sd, mean_v, sd_sd, sd_v"
   ]
  },
  {
   "cell_type": "code",
   "execution_count": null,
   "id": "e7c48ee5-77f7-48a6-b6a4-2f171f4c6860",
   "metadata": {},
   "outputs": [],
   "source": [
    "# values from this paper (onset to report values): https://www.ncbi.nlm.nih.gov/pmc/articles/PMC9225637/\n",
    "compute_parameter_sd(3.18, 3.19, 10.33, 10.44)"
   ]
  },
  {
   "cell_type": "code",
   "execution_count": null,
   "id": "68f483eb-eab4-4327-b123-bd1e619a107b",
   "metadata": {},
   "outputs": [],
   "source": [
    "#incubation period covid = 6.9 days\n",
    "#latent period covid = 5.5 days\n",
    "# report delay onset of symptoms to report = 3.2\n",
    "# gen mean 7.3\n",
    "# gen sd 3.8"
   ]
  },
  {
   "cell_type": "code",
   "execution_count": null,
   "id": "8ba6806a-ca8c-4b21-90ee-c21492763e62",
   "metadata": {},
   "outputs": [],
   "source": [
    "# Define parameter ranges\n",
    "priors = {\n",
    "    \"gen_mean\": dist.TruncatedNormal(5.0, 0.4, low=0.0),\n",
    "    \"gen_sd\": dist.TruncatedNormal(3.8, 0.5, low=0.0),\n",
    "    \"cdr\": dist.Beta(4.0, 10.0),\n",
    "    \"rt_init\": dist.Normal(0.0, 0.25),\n",
    "    \"report_mean\": dist.TruncatedNormal(5, 0.5, low=0.0),\n",
    "    \"report_sd\": dist.TruncatedNormal(2, 0.5, low=0.0),\n",
    "}"
   ]
  },
  {
   "cell_type": "code",
   "execution_count": null,
   "id": "70eb3fd6-25e8-44c7-8429-dd6b40e67bb4",
   "metadata": {},
   "outputs": [],
   "source": [
    "calib = StandardCalib(renew_model, priors, select_data, indicator='weekly_sum')\n",
    "kernel = infer.NUTS(calib.calibration, dense_mass=True, init_strategy=infer.init_to_uniform(radius=0.5))\n",
    "mcmc = infer.MCMC(kernel, num_chains=2, num_samples=1000, num_warmup=1000)\n",
    "mcmc.run(random.PRNGKey(1))"
   ]
  },
  {
   "cell_type": "code",
   "execution_count": null,
   "id": "a085fcb1-6a0c-4379-af1b-8230fad4778f",
   "metadata": {},
   "outputs": [],
   "source": [
    "idata = az.from_dict(mcmc.get_samples(True))\n",
    "idata_sampled = az.extract(idata, num_samples=200)\n",
    "sample_params = esamp.xarray_to_sampleiterator(idata_sampled)"
   ]
  },
  {
   "cell_type": "code",
   "execution_count": null,
   "id": "0a6aca16-77ed-44ef-9a19-3de113d94efe",
   "metadata": {
    "scrolled": true
   },
   "outputs": [],
   "source": [
    "def get_full_result(gen_mean, gen_sd, proc, cdr, rt_init, report_mean, report_sd):\n",
    "    return renew_model.renewal_func(gen_mean, gen_sd, proc, cdr, rt_init, report_mean, report_sd)\n",
    "\n",
    "full_wrap = jit(get_full_result)\n",
    "spaghetti = get_spaghetti_from_params(renew_model, sample_params, full_wrap)\n",
    "quantiles_df = get_quant_df_from_spaghetti(renew_model, spaghetti, quantiles=[0.05, 0.5, 0.95])\n",
    "plot_uncertainty_patches(quantiles_df, select_data, qual_colours.Plotly).update_layout(showlegend=False)"
   ]
  },
  {
   "cell_type": "code",
   "execution_count": null,
   "id": "2c2bc8ca-c00a-458b-958c-9bbc06161d22",
   "metadata": {},
   "outputs": [],
   "source": [
    "quantiles_df"
   ]
  },
  {
   "cell_type": "code",
   "execution_count": null,
   "id": "93e16953-f12e-4734-b5c0-6ca5cc517077",
   "metadata": {},
   "outputs": [],
   "source": [
    "az.summary(idata)"
   ]
  },
  {
   "cell_type": "code",
   "execution_count": null,
   "id": "c0950f7b-b6fa-4e2e-b0d2-0c4283002079",
   "metadata": {},
   "outputs": [],
   "source": [
    "plot_post_prior_comparison(idata, list(priors.keys()), priors);"
   ]
  },
  {
   "cell_type": "code",
   "execution_count": null,
   "id": "6e61f92e",
   "metadata": {},
   "outputs": [],
   "source": []
  }
 ],
 "metadata": {
  "kernelspec": {
   "display_name": "default",
   "language": "python",
   "name": "python3"
  },
  "language_info": {
   "codemirror_mode": {
    "name": "ipython",
    "version": 3
   },
   "file_extension": ".py",
   "mimetype": "text/x-python",
   "name": "python",
   "nbconvert_exporter": "python",
   "pygments_lexer": "ipython3",
   "version": "3.10.18"
  }
 },
 "nbformat": 4,
 "nbformat_minor": 5
}
