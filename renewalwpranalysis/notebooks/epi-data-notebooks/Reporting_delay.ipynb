{
 "cells": [
  {
   "cell_type": "code",
   "execution_count": null,
   "id": "7410b978-43aa-4618-bbb0-5cdd7335eb0a",
   "metadata": {},
   "outputs": [],
   "source": []
  },
  {
   "cell_type": "markdown",
   "id": "f2a6df69-0901-4042-a6fa-bd05a1a539eb",
   "metadata": {},
   "source": [
    "### Obervsation model processes\n",
    "Conceptually in the model incident cases enter the observation model once they are infectious. The observation process is independent of the renewal process that generates new incident infections from prior infections via the generation distribution. The observation model is used to link modelled incident cases to the data which we are using to calibrate the model, which in this application is notified COVID-19 cases. \n",
    "\n",
    "There are two components that govern the observation model, one process is the delay that occurs from becoming infectious to being reported as a case and thus the case showing up in the data, which we term the 'reporting delay' and the second process is the 'case detection rate (CDR)' which captures the important aspect that not all true cases of infection are notified.\n",
    "\n",
    "The CDR is highly uncertain and can only be experimentally estimated "
   ]
  },
  {
   "cell_type": "markdown",
   "id": "1b2d18a6-e804-4048-ba5c-345f3b1b5036",
   "metadata": {},
   "source": [
    "### Case detection rate\n",
    "The CDR is highly uncertain and can only be experimentally estimated by well constructed seroprevlaence surveys."
   ]
  },
  {
   "cell_type": "markdown",
   "id": "92cbb234-9177-4bc4-bc37-cc6f6233116e",
   "metadata": {},
   "source": [
    "### Reporting delay\n",
    "The reporting delay and how it should be interpreted depends on the underlying case notification data used to fit the model. Importantly as the observation process in the model only begins once individuals have become infectious, the latent period (time from infection to infectiousness) has already occurred and so we need to account for this. \n",
    "\n",
    "\n",
    "The WHO case data used in this analysis is weekly reported cases, with the date of reporting being every Sunday, so we assume capturing reported cases from the preceeding Sunday to Saturday of that week. We assume that \n",
    "\n",
    "We assume that the reporting delay represents the time from infection onset to reporting in this analysis. ThTs delay to be made up of several sequential commponents, the incubation period (time from infection onset to symptom), time from recognition of infection to testing and the time from testing to reporting the case as positive. We model the whole delay process as a gamma distribution and provide priors around the mean and standard deviation to parameterise this gamma distribution. These priors are provided truncated normal distributions. Because we assume that the mean and standard deviation are normally distributed to find the mean and sd to represent the entire delay process we simply need to combine estimates of the mean and sd of three components described.\n",
    "\n",
    "We use publushed incubation period estimates for the Delta variant from Li et al. (2024) (https://doi.org/10.1186%2Fs12879-024-09158-7) for the Delta variant for a mean and standard deviation of 5.04 days and 2.57 days.\n",
    "\n",
    "Estimates of delays in time from symptom onset to testing and time from test to reporting, are difficult to gather and likely highly context dependent. These delays are likely dependent on social, epidemiological and health system based factors, such as access to testing, number of tests being performed etc., as well as the implemented public health response. For this analysis we assume that the additional delay from symptom onset to testing and then reporting is about 3 days, with a standard deviation of 1.5 days."
   ]
  },
  {
   "cell_type": "code",
   "execution_count": null,
   "id": "6fe0a04e-3be4-4500-a74a-985aa598155e",
   "metadata": {},
   "outputs": [],
   "source": [
    "def compute_parameter_sd(mean, mean_ui, sd, sd_ui):\n",
    "    mean_sd = (mean_ui - mean)/2\n",
    "    sd_sd = (sd_ui - sd)/2\n",
    "    return mean_sd, sd_sd"
   ]
  },
  {
   "cell_type": "code",
   "execution_count": null,
   "id": "d04c455a-8d0a-46f6-b1d7-f448adf44a1d",
   "metadata": {},
   "outputs": [],
   "source": [
    "compute_parameter_sd(5.04, 5.33, 2.57, 2.79)"
   ]
  },
  {
   "cell_type": "code",
   "execution_count": null,
   "id": "d21a2119-f585-465b-a44d-edf458f08fa1",
   "metadata": {},
   "outputs": [],
   "source": [
    "#Some code for plotting gamma distribution"
   ]
  },
  {
   "cell_type": "code",
   "execution_count": null,
   "id": "25ec5af8-9c5e-4a23-af83-8a01d1beafe0",
   "metadata": {},
   "outputs": [],
   "source": [
    "# new example\n",
    "shape, scale = 2, 0.5  # mean=8, std=2*sqrt(2)\n",
    "s = np.random.gamma(shape, scale, 1000)"
   ]
  },
  {
   "cell_type": "code",
   "execution_count": null,
   "id": "66bcb6db-162b-4ba3-bd9c-cf0c145653af",
   "metadata": {},
   "outputs": [],
   "source": [
    "import matplotlib.pyplot as plt\n",
    "import scipy.special as sps  \n",
    "count, bins, ignored = plt.hist(s, 50, density=True)\n",
    "y = bins**(shape-1)*(np.exp(-bins/scale) /  \n",
    "                     (sps.gamma(shape)*scale**shape))\n",
    "plt.plot(bins, y, linewidth=2, color='r')  \n",
    "plt.show()"
   ]
  },
  {
   "cell_type": "code",
   "execution_count": null,
   "id": "4e22b0cd-7e3b-4ea7-a390-5c432ff2da59",
   "metadata": {},
   "outputs": [],
   "source": [
    "shape = k\n",
    "scale = d\n",
    "mean = k*d\n",
    "variance = k*d**2\n",
    "sd = sqrt(k*d**2)"
   ]
  },
  {
   "cell_type": "code",
   "execution_count": null,
   "id": "d6d642ba-6907-4946-8ac0-2c0d27bae08b",
   "metadata": {},
   "outputs": [],
   "source": [
    "def solve(mean, sd):\n",
    "    mean = k*d\n",
    "    sd = sqrt(k*d**2)\n",
    "    return k, d"
   ]
  },
  {
   "cell_type": "code",
   "execution_count": null,
   "id": "c1b4456d-46f6-4fca-867e-f713d3e46974",
   "metadata": {},
   "outputs": [],
   "source": [
    "solve(8,2)"
   ]
  },
  {
   "cell_type": "code",
   "execution_count": null,
   "id": "20676286-d195-479d-bccb-c50efb3dede1",
   "metadata": {},
   "outputs": [],
   "source": [
    "import math"
   ]
  },
  {
   "cell_type": "code",
   "execution_count": null,
   "id": "a324ab0e-431d-438d-a301-14b794683b5c",
   "metadata": {},
   "outputs": [],
   "source": [
    "math.sqrt(2)*1.4"
   ]
  },
  {
   "cell_type": "code",
   "execution_count": null,
   "id": "8a97dfb7-f19b-4786-bea4-c54feb8ee85a",
   "metadata": {},
   "outputs": [],
   "source": [
    "1.6*5"
   ]
  },
  {
   "cell_type": "code",
   "execution_count": null,
   "id": "af5c4f7e-b2cd-42fd-8830-5075effdeca5",
   "metadata": {},
   "outputs": [],
   "source": [
    "# Plot normal distribution"
   ]
  },
  {
   "cell_type": "code",
   "execution_count": null,
   "id": "ff4b7f1a-05e2-4711-802e-2762989ae735",
   "metadata": {},
   "outputs": [],
   "source": [
    "import numpy as np\n",
    "import matplotlib.pyplot as plt\n",
    "from scipy.stats import norm\n",
    "\n",
    "# Plot between -10 and 10 with .001 steps.\n",
    "x_axis = np.arange(0, 15, 0.001)\n",
    "# Mean = 0, SD = 2.\n",
    "plt.plot(x_axis, norm.pdf(x_axis,7.6, 0.5))\n",
    "plt.show()"
   ]
  }
 ],
 "metadata": {
  "kernelspec": {
   "display_name": "renewal-wpr-2",
   "language": "python",
   "name": "python3"
  },
  "language_info": {
   "codemirror_mode": {
    "name": "ipython",
    "version": 3
   },
   "file_extension": ".py",
   "mimetype": "text/x-python",
   "name": "python",
   "nbconvert_exporter": "python",
   "pygments_lexer": "ipython3",
   "version": "3.10.14"
  }
 },
 "nbformat": 4,
 "nbformat_minor": 5
}
