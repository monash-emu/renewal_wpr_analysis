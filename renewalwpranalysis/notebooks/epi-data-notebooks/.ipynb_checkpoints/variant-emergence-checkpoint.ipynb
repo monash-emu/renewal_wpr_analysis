{
 "cells": [
  {
   "cell_type": "code",
   "execution_count": null,
   "id": "30bd9766-b806-4a88-be13-ecbe10d166e7",
   "metadata": {},
   "outputs": [],
   "source": [
    "import pandas as pd\n",
    "import plotly.express as px\n",
    "import numpy as np\n",
    "import json\n",
    "import requests\n",
    "import srsly\n",
    "from pathlib import Path"
   ]
  },
  {
   "cell_type": "code",
   "execution_count": null,
   "id": "463838f3-9c5e-4cb8-9c8c-6b043e925c67",
   "metadata": {},
   "outputs": [],
   "source": [
    "# Code for grabbing variant props for covariants github\n",
    "# Data from covariants cluster tables https://github.com/hodcroftlab/covariants/tree/master/cluster_tables, covariants.org"
   ]
  },
  {
   "cell_type": "code",
   "execution_count": null,
   "id": "45065c83-6a6f-440f-a2b2-37abca93a234",
   "metadata": {},
   "outputs": [],
   "source": [
    "# Set path to target data in data folder\n",
    "cwd = Path.cwd()\n",
    "cwd.parent.parent\n",
    "variant_data_path = cwd.parent.parent / Path(\"data/raw-variant-data\")"
   ]
  },
  {
   "cell_type": "code",
   "execution_count": null,
   "id": "417bd48a-bf4d-470d-8622-cd8586ec57a7",
   "metadata": {},
   "outputs": [],
   "source": [
    "cwd.parent.parent"
   ]
  },
  {
   "cell_type": "code",
   "execution_count": null,
   "id": "f82a1689-c907-4e7f-9a69-0f52bfd13bef",
   "metadata": {},
   "outputs": [],
   "source": [
    "# specify variant dictionary\n",
    "variant_data_dict = {}\n",
    "temp_dict = {}\n",
    "\n",
    "# for loop to read through data paths in folders, grab json files and add them to dictionary\n",
    "for p in variant_data_path.iterdir():\n",
    "    variant_string = p.stem\n",
    "    variant_name = variant_string.split('_')[0].replace('.','_')\n",
    "    variant_dict = srsly.read_json(p)\n",
    "    variant_data_dict[variant_name] = variant_dict"
   ]
  },
  {
   "cell_type": "code",
   "execution_count": null,
   "id": "e8fcb144-f38d-4d99-9524-d310c252789e",
   "metadata": {},
   "outputs": [],
   "source": [
    "# check each variant dict key has been added\n",
    "keysList = list(variant_data_dict.keys())\n",
    "print(keysList)\n",
    "# Note names are nextstrain calde names at this point and WHO VOC naming"
   ]
  },
  {
   "cell_type": "code",
   "execution_count": null,
   "id": "d4cf9c03-8d24-4a48-b429-a8402faf4da7",
   "metadata": {},
   "outputs": [],
   "source": [
    "# create dataframe from nested variant dictionary\n",
    "df = pd.DataFrame()\n",
    "\n",
    "for variant,country in variant_data_dict.items():\n",
    "    for c in country:\n",
    "        new_df = pd.DataFrame(country[c])\n",
    "        new_df['country'] = c\n",
    "        new_df['nextclade_variant'] = variant\n",
    "        df = pd.concat([df, new_df])\n",
    "        \n",
    "# create new variant proportion column\n",
    "df['variant_prop'] = df['cluster_sequences']/df['total_sequences']"
   ]
  },
  {
   "cell_type": "code",
   "execution_count": null,
   "id": "0545d158-b757-4e6b-887e-febe454f9ad3",
   "metadata": {},
   "outputs": [],
   "source": [
    "# lets creare a new column that adds more common variant names"
   ]
  },
  {
   "cell_type": "code",
   "execution_count": null,
   "id": "d4111b33-b0e8-42b3-a0ce-0bf0d8227169",
   "metadata": {},
   "outputs": [],
   "source": [
    "\n",
    "# Define the function to categorise names\n",
    "def variant_rename(variant_name):\n",
    "    if variant_name == '20H_Beta_V2':\n",
    "        return 'Beta'\n",
    "    elif variant_name == '20I_Alpha_V1':\n",
    "        return 'Alpha'\n",
    "    elif variant_name == '21A_Delta':\n",
    "        return 'Delta'\n",
    "    elif variant_name == '21I_Delta':\n",
    "        return 'Delta'\n",
    "    elif variant_name == '21J_Delta':\n",
    "        return 'Delta'\n",
    "    elif variant_name == '21K_Omicron':\n",
    "        return 'Omicron_BA1'\n",
    "    elif variant_name == '21L_Omicron':\n",
    "        return 'Omicron_BA2'\n",
    "    elif variant_name == '22A_Omicron':\n",
    "        return 'Omicron_BA4'\n",
    "    else:\n",
    "        return 'Omicron_BA5'\n",
    "\n",
    "# Apply the function to the Age column using the apply() function\n",
    "df['variant'] = df['nextclade_variant'].apply(variant_rename)"
   ]
  },
  {
   "cell_type": "code",
   "execution_count": null,
   "id": "efb49a38-1f74-4c40-9a84-f7c026979a68",
   "metadata": {},
   "outputs": [],
   "source": [
    "# inspect df\n",
    "df.head(20)"
   ]
  },
  {
   "cell_type": "code",
   "execution_count": null,
   "id": "f878770d-3f2a-4b8d-822e-533f6d31958b",
   "metadata": {},
   "outputs": [],
   "source": [
    "# select countries\n",
    "countries = ['Malaysia', 'Philippines', 'Vietnam']\n",
    "\n",
    "df_analysis = df.loc[df['country'].isin(countries)]"
   ]
  },
  {
   "cell_type": "code",
   "execution_count": null,
   "id": "bbe04518-1507-4c1e-9abc-7c8b442a559b",
   "metadata": {},
   "outputs": [],
   "source": [
    "# identify week first time variant appears - i.e. prop > 0\n",
    "threshold = 0.0\n",
    "emergence_df = df_analysis.loc[df_analysis.variant_prop>threshold].groupby(['country','variant']).head(2)\n",
    "\n",
    "# save as a csv\n",
    "emergence_df.to_csv(cwd.parent.parent / Path(\"data/variant-data/variant-emergence.csv\"))"
   ]
  },
  {
   "cell_type": "code",
   "execution_count": null,
   "id": "0673038d-c77b-4c26-becb-118cfd597ce4",
   "metadata": {},
   "outputs": [],
   "source": [
    "# identify week first time variant proportion goes above a threshold and there is reasonable sized sampling, lets say 50 sequences total\n",
    "threshold = 0.1\n",
    "number = 50\n",
    "\n",
    "prev_df = df_analysis.loc[(df_analysis.variant_prop>threshold) & (df_analysis.total_sequences>number)].groupby(['country','variant']).head(2)\n",
    "\n",
    "# save as a csv\n",
    "prev_df.to_csv(cwd.parent.parent / Path(\"data/variant-data/variant-prevalence.csv\"))"
   ]
  },
  {
   "cell_type": "code",
   "execution_count": null,
   "id": "a49e3b2e-2c28-46e1-afd5-296f4a94ba45",
   "metadata": {},
   "outputs": [],
   "source": [
    "prev_df"
   ]
  }
 ],
 "metadata": {
  "kernelspec": {
   "display_name": "renewal",
   "language": "python",
   "name": "renewal"
  },
  "language_info": {
   "codemirror_mode": {
    "name": "ipython",
    "version": 3
   },
   "file_extension": ".py",
   "mimetype": "text/x-python",
   "name": "python",
   "nbconvert_exporter": "python",
   "pygments_lexer": "ipython3",
   "version": "3.10.14"
  }
 },
 "nbformat": 4,
 "nbformat_minor": 5
}
