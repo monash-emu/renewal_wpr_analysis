{
 "cells": [
  {
   "cell_type": "code",
   "execution_count": null,
   "id": "adc98aa7",
   "metadata": {},
   "outputs": [],
   "source": [
    "import pandas as pd\n",
    "import plotly.express as px\n",
    "import numpy as np\n",
    "import srsly\n",
    "import pathlib "
   ]
  },
  {
   "cell_type": "code",
   "execution_count": null,
   "id": "c480ca8d-8c9b-4560-87a0-994cf218b437",
   "metadata": {},
   "outputs": [],
   "source": []
  },
  {
   "cell_type": "code",
   "execution_count": null,
   "id": "efec8787",
   "metadata": {},
   "outputs": [],
   "source": [
    "# Data from WHO covid dashboard: https://data.who.int/dashboards/covid19/data\n",
    "\n",
    "case_df = pd.read_csv(r'C:\\Users\\ehug0006\\Downloads\\WHO-COVID-19-global-data.csv')"
   ]
  },
  {
   "cell_type": "code",
   "execution_count": null,
   "id": "82f6292d",
   "metadata": {},
   "outputs": [],
   "source": [
    "case_df.head()"
   ]
  },
  {
   "cell_type": "code",
   "execution_count": null,
   "id": "378c2909",
   "metadata": {},
   "outputs": [],
   "source": [
    "case_df"
   ]
  },
  {
   "cell_type": "code",
   "execution_count": null,
   "id": "726e704d",
   "metadata": {},
   "outputs": [],
   "source": [
    "# select countries for analysis\n",
    "\n",
    "countries = ['Malaysia', 'Philippines', 'Viet Nam']\n",
    "\n",
    "analysis_df = case_df.loc[case_df['Country'].isin(countries)]"
   ]
  },
  {
   "cell_type": "code",
   "execution_count": null,
   "id": "b1aa1f1d",
   "metadata": {},
   "outputs": [],
   "source": [
    "fig = px.scatter(analysis_df, \n",
    "              x='Date_reported', y='New_cases', \n",
    "              color='Country',\n",
    "             log_y=False)\n",
    "\n",
    "fig.show()"
   ]
  },
  {
   "cell_type": "code",
   "execution_count": null,
   "id": "1d06384d",
   "metadata": {},
   "outputs": [],
   "source": [
    "# Code for grabbing variant props for covariants github\n",
    "# Data from covariants cluster tables https://github.com/hodcroftlab/covariants/tree/master/cluster_tables, covariants.org"
   ]
  },
  {
   "cell_type": "code",
   "execution_count": null,
   "id": "144cc252",
   "metadata": {},
   "outputs": [],
   "source": [
    "# Read json files into dictionaries\n",
    "Beta_20H = srsly.read_json(r'C:\\Users\\ehug0006\\emu\\variant_data_covariants\\20H.Beta.V2_data.json')\n",
    "Alpha_20I = srsly.read_json(r'C:\\Users\\ehug0006\\emu\\variant_data_covariants\\20I.Alpha.V1_data.json')\n",
    "Delta_21A = srsly.read_json(r'C:\\Users\\ehug0006\\emu\\variant_data_covariants\\21A.Delta_data.json')\n",
    "Delta_21I = srsly.read_json(r'C:\\Users\\ehug0006\\emu\\variant_data_covariants\\21I.Delta_data.json')\n",
    "Delta_21J = srsly.read_json(r'C:\\Users\\ehug0006\\emu\\variant_data_covariants\\21J.Delta_data.json')\n",
    "Omicron_21K_BA1 = srsly.read_json(r'C:\\Users\\ehug0006\\emu\\variant_data_covariants\\21K.Omicron_data.json')\n",
    "Omicron_21L_BA2 = srsly.read_json(r'C:\\Users\\ehug0006\\emu\\variant_data_covariants\\21L.Omicron_data.json')\n",
    "Omicron_22A_BA4 = srsly.read_json(r'C:\\Users\\ehug0006\\emu\\variant_data_covariants\\22A.Omicron_data.json')\n",
    "Omicron_22B_BA5 = srsly.read_json(r'C:\\Users\\ehug0006\\emu\\variant_data_covariants\\22B.Omicron_data.json')"
   ]
  },
  {
   "cell_type": "code",
   "execution_count": null,
   "id": "1b592b94",
   "metadata": {},
   "outputs": [],
   "source": [
    "# Combine variant dictionaries into single nested dictionary\n",
    "variant_data_dict = {'Beta_20H':Beta_20H,\n",
    "                    'Alpha_20I':Alpha_20I,\n",
    "                     'Delta_21A':Delta_21A,\n",
    "                     'Delta_21I':Delta_21I,\n",
    "                     'Delta_21J': Delta_21J,\n",
    "                     'Omicron_21K_BA1': Omicron_21K_BA1,\n",
    "                     'Omicron_21L_BA2': Omicron_21L_BA2,\n",
    "                     'Omicron_22A_BA4': Omicron_22A_BA4,\n",
    "                     'Omicron_22B_BA5':Omicron_22B_BA5\n",
    "                    }"
   ]
  },
  {
   "cell_type": "code",
   "execution_count": null,
   "id": "09258886",
   "metadata": {},
   "outputs": [],
   "source": [
    "# create dataframe from nested variant dictionary\n",
    "df = pd.DataFrame()\n",
    "\n",
    "for variant,country in variant_data_dict.items():\n",
    "    for c in country:\n",
    "        new_df = pd.DataFrame(country[c])\n",
    "        new_df['country'] = c\n",
    "        new_df['variant'] = variant\n",
    "        df = pd.concat([df, new_df])\n",
    "        \n",
    "# create new variant proportion column\n",
    "df['variant_prop'] = df['cluster_sequences']/df['total_sequences']"
   ]
  },
  {
   "cell_type": "code",
   "execution_count": null,
   "id": "74ab7589",
   "metadata": {},
   "outputs": [],
   "source": [
    "# select countries\n",
    "countries = ['Malaysia', 'Philippines', 'Vietnam']\n",
    "\n",
    "df_analysis = df.loc[df['country'].isin(countries)]"
   ]
  },
  {
   "cell_type": "code",
   "execution_count": null,
   "id": "bb1d72b1",
   "metadata": {},
   "outputs": [],
   "source": [
    "# identify week first time proportion goes above a threshold\n",
    "threshold = 0.01\n",
    "\n",
    "emergence_df = df_analysis.loc[df_analysis.variant_prop>threshold].groupby(['country','variant']).head(2)"
   ]
  },
  {
   "cell_type": "code",
   "execution_count": null,
   "id": "bbe9acdf",
   "metadata": {},
   "outputs": [],
   "source": [
    "emergence_df"
   ]
  },
  {
   "cell_type": "code",
   "execution_count": null,
   "id": "c636b9fd-4657-4ef3-8835-8ac0434ad625",
   "metadata": {},
   "outputs": [],
   "source": [
    "data_path = pathlib.Path('../data/target-data/WHO-COVID-19-global-data.csv')"
   ]
  },
  {
   "cell_type": "code",
   "execution_count": null,
   "id": "a833b569-87ec-4528-9279-eb9f9be84261",
   "metadata": {},
   "outputs": [],
   "source": [
    "mys_data = pd.read_csv(data_path, index_col=0)"
   ]
  },
  {
   "cell_type": "code",
   "execution_count": null,
   "id": "e175502f-0779-4e6d-9f28-21e04f22723c",
   "metadata": {},
   "outputs": [],
   "source": [
    "mys_data"
   ]
  }
 ],
 "metadata": {
  "kernelspec": {
   "display_name": "renewal",
   "language": "python",
   "name": "renewal"
  },
  "language_info": {
   "codemirror_mode": {
    "name": "ipython",
    "version": 3
   },
   "file_extension": ".py",
   "mimetype": "text/x-python",
   "name": "python",
   "nbconvert_exporter": "python",
   "pygments_lexer": "ipython3",
   "version": "3.10.14"
  }
 },
 "nbformat": 4,
 "nbformat_minor": 5
}
