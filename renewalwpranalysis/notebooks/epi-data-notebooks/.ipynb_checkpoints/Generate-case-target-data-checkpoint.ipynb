{
 "cells": [
  {
   "cell_type": "code",
   "execution_count": null,
   "id": "639ac1a2-e6fa-4ec7-aeba-4335bfaa98db",
   "metadata": {},
   "outputs": [],
   "source": [
    "import pandas as pd\n",
    "import pathlib\n",
    "import numpy as np\n",
    "import plotly.express as px"
   ]
  },
  {
   "cell_type": "code",
   "execution_count": null,
   "id": "56ee94f8-8b2c-4e2d-836d-6fc95f02437f",
   "metadata": {},
   "outputs": [],
   "source": [
    "# set path to data\n",
    "data_path = pathlib.Path('../data/raw-case-data/WHO-COVID-19-global-data.csv')"
   ]
  },
  {
   "cell_type": "code",
   "execution_count": null,
   "id": "240d20c3-eb04-4de0-ba96-e3e26446baef",
   "metadata": {},
   "outputs": [],
   "source": [
    "# read in who data to dataframe\n",
    "who_data = pd.read_csv(data_path)\n",
    "\n",
    "# need new cases only for each date, for each country - Malaysia, Philippines and Malaysia"
   ]
  },
  {
   "cell_type": "code",
   "execution_count": null,
   "id": "cc704462-b67e-4a77-b3e7-1c2e815598ba",
   "metadata": {},
   "outputs": [],
   "source": [
    "# need new cases only for each date, for each country - Malaysia, Philippines and Malaysia\n",
    "countries = ['Malaysia', 'Philippines', 'Viet Nam']\n",
    "target_data = who_data.loc[who_data['Country'].isin(countries)]\n",
    "\n",
    "# set date columb to be datetime and set date column to index\n",
    "target_data['Date_reported'] = pd.to_datetime(target_data['Date_reported'])\n",
    "target_data = target_data.set_index('Date_reported')\n",
    "\n",
    "# drop uneeded columns\n",
    "target_data = target_data.drop(['Country_code','WHO_region','New_deaths','Cumulative_deaths'], axis=1)\n",
    "\n",
    "# Convert NaNs to 0\n",
    "target_data['New_cases'] = target_data['New_cases'].fillna(0)"
   ]
  },
  {
   "cell_type": "code",
   "execution_count": null,
   "id": "842d5dfd-c1c8-4b03-946e-4830b2681e66",
   "metadata": {},
   "outputs": [],
   "source": [
    "target_data"
   ]
  },
  {
   "cell_type": "code",
   "execution_count": null,
   "id": "e639bd04-a8a7-4020-98b3-c6b5121014b8",
   "metadata": {},
   "outputs": [],
   "source": [
    "# Grab each country and combine\n",
    "# Malaysia\n",
    "mys_df = target_data.loc[target_data['Country'] == 'Malaysia']\n",
    "mys_df = mys_df.rename(columns={\"New_cases\": \"New_cases_MYS\", \"Cumulative_cases\":\"Cumulative_cases_MYS\"})\n",
    "mys_df = mys_df.drop(['Country'], axis=1)\n",
    "\n",
    "# Philippines\n",
    "phl_df = target_data.loc[target_data['Country'] == 'Philippines']\n",
    "phl_df = phl_df.rename(columns={\"New_cases\": \"New_case_PHL\", \"Cumulative_cases\":\"Cumulative_cases_PHL\"})\n",
    "phl_df = phl_df.drop(['Country'], axis=1)\n",
    "\n",
    "# Vietnam\n",
    "vnm_df = target_data.loc[target_data['Country'] == 'Viet Nam']\n",
    "vnm_df = vnm_df.rename(columns={\"New_cases\": \"New_case_VNM\", \"Cumulative_cases\":\"Cumulative_cases_VNM\"})\n",
    "vnm_df = vnm_df.drop(['Country'], axis=1)"
   ]
  },
  {
   "cell_type": "code",
   "execution_count": null,
   "id": "c00149f3-183a-4d34-9a6b-4b0ca0783de9",
   "metadata": {},
   "outputs": [],
   "source": [
    "# join data frames\n",
    "merge = pd.merge(mys_df,phl_df, how='inner', left_index=True, right_index=True)\n",
    "raw_case_df = pd.merge(merge, vnm_df, how='inner', left_index=True, right_index=True)"
   ]
  },
  {
   "cell_type": "code",
   "execution_count": null,
   "id": "88c7c1d6-9c68-4957-a5dc-c0643faf66be",
   "metadata": {},
   "outputs": [],
   "source": [
    "# exploring different solutions for converting weekly to daily data, using malaysia as a base tool"
   ]
  },
  {
   "cell_type": "code",
   "execution_count": null,
   "id": "02d4bf1e-100f-4b50-b71c-103474d88cb2",
   "metadata": {},
   "outputs": [],
   "source": [
    "# solution 1. take weekly cumulative case series - interpolate and take the difference\n",
    "\n",
    "# drop weekly case series\n",
    "mys_df = mys_df.drop(columns=['MYS'])\n",
    "\n",
    "# then upsample to add days, interpolate between and take the diff\n",
    "mys_df = mys_df.resample('D').interpolate()\n"
   ]
  },
  {
   "cell_type": "code",
   "execution_count": null,
   "id": "4dd1bfb1-0dc3-4655-ac5c-2696e05a0af8",
   "metadata": {},
   "outputs": [],
   "source": [
    "# generate new cases\n",
    "mys_df['new_cases'] = mys_df['Cumulative_cases'].diff(1)"
   ]
  },
  {
   "cell_type": "code",
   "execution_count": null,
   "id": "ba99c78d-bb0e-45a8-9f48-ec17c19cdfec",
   "metadata": {},
   "outputs": [],
   "source": [
    "mys_df"
   ]
  },
  {
   "cell_type": "code",
   "execution_count": null,
   "id": "90d6e005-8865-444f-95c2-06253b58e7fe",
   "metadata": {},
   "outputs": [],
   "source": [
    "fig = px.scatter(x=mys_df.index, y=mys_df['new_cases'])\n",
    "\n",
    "fig.show()"
   ]
  },
  {
   "cell_type": "code",
   "execution_count": null,
   "id": "a4bf1482-076f-4017-bc96-24ff4145152f",
   "metadata": {},
   "outputs": [],
   "source": [
    "# try second way\n",
    "mys_df_2 = target_data.loc[target_data['Country'] == 'Malaysia']\n",
    "mys_df_2 = mys_df_2.rename(columns={\"New_cases\": \"MYS\"})\n",
    "mys_df_2 = mys_df_2.drop(['Country', 'Cumulative_cases'], axis=1)"
   ]
  },
  {
   "cell_type": "code",
   "execution_count": null,
   "id": "3e38700c-12ce-4333-b458-e6b370af2f24",
   "metadata": {},
   "outputs": [],
   "source": [
    "mys_df_2 = mys_df_2.resample('D').interpolate()/7"
   ]
  },
  {
   "cell_type": "code",
   "execution_count": null,
   "id": "136c3288-cb3d-458f-ae36-5c27ecf98159",
   "metadata": {},
   "outputs": [],
   "source": [
    "fig = px.scatter(x=mys_df_2.index, y=mys_df_2['MYS'])\n",
    "\n",
    "fig.show()"
   ]
  },
  {
   "cell_type": "code",
   "execution_count": null,
   "id": "54ecb9cc-0b45-46d6-bc90-0f7783375632",
   "metadata": {},
   "outputs": [],
   "source": [
    "# Paths to save data to\n",
    "\n",
    "# First way dataset\n",
    "save_path = pathlib.Path('../data/target-data/case-data.csv')"
   ]
  },
  {
   "cell_type": "code",
   "execution_count": null,
   "id": "23a75e89-95fd-4edb-9449-838cede6af86",
   "metadata": {},
   "outputs": [],
   "source": [
    "raw_case_df.to_csv(save_path, index = True)"
   ]
  },
  {
   "cell_type": "code",
   "execution_count": null,
   "id": "c8b961fb-d84c-443f-9d9c-11384c7899ac",
   "metadata": {},
   "outputs": [],
   "source": [
    "df = pd.read_csv(save_path)"
   ]
  },
  {
   "cell_type": "code",
   "execution_count": null,
   "id": "f7e97879-2d40-47a7-a688-6e431a091bb9",
   "metadata": {},
   "outputs": [],
   "source": [
    "df"
   ]
  }
 ],
 "metadata": {
  "kernelspec": {
   "display_name": "renewal",
   "language": "python",
   "name": "renewal"
  },
  "language_info": {
   "codemirror_mode": {
    "name": "ipython",
    "version": 3
   },
   "file_extension": ".py",
   "mimetype": "text/x-python",
   "name": "python",
   "nbconvert_exporter": "python",
   "pygments_lexer": "ipython3",
   "version": "3.10.14"
  }
 },
 "nbformat": 4,
 "nbformat_minor": 5
}
