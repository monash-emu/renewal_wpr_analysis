{
 "cells": [
  {
   "cell_type": "code",
   "execution_count": 1,
   "id": "eedf3719-c132-464b-a79f-294a5e767232",
   "metadata": {},
   "outputs": [],
   "source": [
    "import pandas as pd\n",
    "from IPython.display import Markdown"
   ]
  },
  {
   "cell_type": "markdown",
   "id": "0c7267a3-f7b6-4149-afc5-c325194c281d",
   "metadata": {},
   "source": [
    "### The generation interval"
   ]
  },
  {
   "cell_type": "markdown",
   "id": "f06b5793-e5ac-4d4a-a1af-0a1612b372ac",
   "metadata": {},
   "source": [
    "The generation interval"
   ]
  },
  {
   "cell_type": "markdown",
   "id": "e8723d89-2be2-4050-b0e6-1455b6aa271b",
   "metadata": {},
   "source": [
    "In the renewal model we implement priors for the mean and standard deviation parameters that parameterise the generation interval distribution.\n",
    "To set these parameters we use evidence directly from the literature around the generation interval for COVID-19. Chen et al. examined transmission pair data from early in the COVID-19 outbreak in China (Jan-Feb 2020) to estimate the generation time distribution. Under the assumption that the generation time follows a gamma distribution, they estimated the GT over several time windows during that period. Prior to the implementation of PHSMs which could affect the GT, they estimated a mean generation time 7.27 days (95% CI 6.42 to 8.07) with a standard deviation of 3.81 days (95% CI 2.84 to 4.80) for the original (wild-type) COVID-19 variant. "
   ]
  },
  {
   "cell_type": "markdown",
   "id": "863d21fb-9e69-482e-b88b-21eb830300d9",
   "metadata": {},
   "source": [
    "Although they are the mean and sd of a gamma distributed GT - these parameters themsevles are not necessarily gamma distributed. In Chen et al., the mean is estimated based on maximum likelihood and the 95% CI are constructed using boostrapped sampling. Applying The central limit theorem the assumption is that these parameters (mean and standard deviation) of the GT distribution are approximately normally distributed. "
   ]
  },
  {
   "cell_type": "code",
   "execution_count": 2,
   "id": "181444c3-ffe8-4cfb-b8cb-36689fb83a48",
   "metadata": {},
   "outputs": [],
   "source": [
    "def compute_parameter_sd(mean, mean_ui, sd, sd_ui):\n",
    "    mean_sd = (mean_ui - mean)/2\n",
    "    sd_sd = (sd_ui - sd)/2\n",
    "    return mean_sd, sd_sd"
   ]
  },
  {
   "cell_type": "code",
   "execution_count": 3,
   "id": "faba22bb-eda9-4336-8d15-094e48c31324",
   "metadata": {},
   "outputs": [
    {
     "data": {
      "text/plain": [
       "(0.40000000000000036, 0.4949999999999999)"
      ]
     },
     "execution_count": 3,
     "metadata": {},
     "output_type": "execute_result"
    }
   ],
   "source": [
    "compute_parameter_sd(7.27, 8.07, 3.81, 4.80)"
   ]
  },
  {
   "cell_type": "markdown",
   "id": "f3c8daf8-c9c7-484b-ba52-09d7f3542828",
   "metadata": {},
   "source": [
    "The results of this is that the we should be able to specify a normal prior for both the mean and SD of the gamma distribution that governs the generation interval.\n",
    "mean ~ N(7.3, 0.4) \n",
    "SD ~ N (3.8, 0.5)"
   ]
  }
 ],
 "metadata": {
  "kernelspec": {
   "display_name": "renewal",
   "language": "python",
   "name": "renewal"
  },
  "language_info": {
   "codemirror_mode": {
    "name": "ipython",
    "version": 3
   },
   "file_extension": ".py",
   "mimetype": "text/x-python",
   "name": "python",
   "nbconvert_exporter": "python",
   "pygments_lexer": "ipython3",
   "version": "3.10.14"
  }
 },
 "nbformat": 4,
 "nbformat_minor": 5
}
