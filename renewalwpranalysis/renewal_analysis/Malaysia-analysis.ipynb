{
 "cells": [
  {
   "cell_type": "raw",
   "id": "36cf22a9-52f8-47ef-84ad-750c9e7d2820",
   "metadata": {},
   "source": [
    "---\n",
    "title: \"Malaysia analysis\"\n",
    "bibliography: renew.bib\n",
    "format:\n",
    "  docx:\n",
    "    code-fold: true\n",
    "jupyter: python3\n",
    "---"
   ]
  },
  {
   "cell_type": "code",
   "execution_count": null,
   "id": "375e03f5-6bc1-4983-8075-45d7d3f5654f",
   "metadata": {},
   "outputs": [],
   "source": [
    "from jax import jit, random\n",
    "import pandas as pd\n",
    "from datetime import datetime, timedelta\n",
    "import numpyro\n",
    "from numpyro import distributions as dist\n",
    "from numpyro import infer\n",
    "import arviz as az\n",
    "from IPython.display import Markdown\n",
    "from plotly.express.colors import qualitative as qual_colours\n",
    "from pathlib import Path\n",
    "import math\n",
    "import plotly.express as px\n",
    "import plotly.graph_objects as go\n",
    "from plotly.subplots import make_subplots\n",
    "from IPython.display import Markdown\n",
    "from matplotlib import pyplot as plt\n",
    "\n",
    "from estival.sampling import tools as esamp\n",
    "\n",
    "from emu_renewal.process import CosineMultiCurve\n",
    "from emu_renewal.distributions import GammaDens\n",
    "from emu_renewal.renew import RenewalModel\n",
    "from emu_renewal.outputs import get_spaghetti_from_params, get_quant_df_from_spaghetti, plot_spaghetti\n",
    "from emu_renewal.outputs import plot_uncertainty_patches, PANEL_SUBTITLES, plot_3d_spaghetti, plot_post_prior_comparison\n",
    "from emu_renewal.calibration import StandardCalib\n",
    "from emu_renewal.utils import get_adjust_idata_index, adjust_summary_cols\n",
    "\n",
    "from plotting import plot_main\n",
    "from utils import load_target_data, load_mobility_data, load_vaccination_data, load_variant_prevalence_data"
   ]
  },
  {
   "cell_type": "markdown",
   "id": "3fb74a91-2a18-4ffa-864d-facee6c143c0",
   "metadata": {},
   "source": [
    "## Setup country setting and load data"
   ]
  },
  {
   "cell_type": "code",
   "execution_count": null,
   "id": "a0a734ae-3ec3-4d58-9f5a-61cffbd47177",
   "metadata": {},
   "outputs": [],
   "source": [
    "# Set country\n",
    "country = 'Malaysia'"
   ]
  },
  {
   "cell_type": "code",
   "execution_count": null,
   "id": "9c73f14e-7d6d-4d83-80a0-65ed75af4986",
   "metadata": {},
   "outputs": [],
   "source": [
    "# Load data\n",
    "target_data = load_target_data(country)\n",
    "mobility_data = load_mobility_data(country)\n",
    "vaccination_data = load_vaccination_data(country)\n",
    "variant_data = load_variant_prevalence_data(country)"
   ]
  },
  {
   "cell_type": "markdown",
   "id": "39695a96-77da-4680-b523-870eebf41e43",
   "metadata": {},
   "source": [
    "## Specify renewal model and parameters"
   ]
  },
  {
   "cell_type": "code",
   "execution_count": null,
   "id": "a20aa476-67be-455d-ad00-f848d7bcac6f",
   "metadata": {},
   "outputs": [],
   "source": [
    "# Specify fixed parameters and get calibration data\n",
    "proc_update_freq = 21\n",
    "init_time = 50\n",
    "data = target_data\n",
    "pop = 33e6\n",
    "analysis_start = datetime(2021, 5, 1)\n",
    "analysis_end = datetime(2022, 4, 30)\n",
    "init_start = analysis_start - timedelta(init_time)\n",
    "init_end = analysis_start - timedelta(1)\n",
    "select_data = data.loc[analysis_start: analysis_end]\n",
    "init_data = data.resample(\"D\").asfreq().interpolate().loc[init_start: init_end] / 7.0"
   ]
  },
  {
   "cell_type": "code",
   "execution_count": null,
   "id": "6c474089-729c-4495-be21-0e187a26d3ac",
   "metadata": {},
   "outputs": [],
   "source": [
    "proc_fitter = CosineMultiCurve()\n",
    "renew_model = RenewalModel(pop, analysis_start, analysis_end, proc_update_freq, proc_fitter, GammaDens(), init_time, init_data, GammaDens())"
   ]
  },
  {
   "cell_type": "code",
   "execution_count": null,
   "id": "a10524aa-8a7c-49bf-b6c5-9e4ca02fae71",
   "metadata": {},
   "outputs": [],
   "source": [
    "# Define parameter ranges\n",
    "priors = {\n",
    "    \"gen_mean\": dist.TruncatedNormal(7.3, 0.5, low=1.0),\n",
    "    \"gen_sd\": dist.TruncatedNormal(3.8, 0.5, low=1.0),\n",
    "    \"cdr\": dist.Beta(15, 15), #16, 40\n",
    "    \"rt_init\": dist.Normal(0.0, 0.25),\n",
    "    \"report_mean\": dist.TruncatedNormal(8, 0.5, low=1.0),\n",
    "    \"report_sd\": dist.TruncatedNormal(3, 0.5, low=1.0),\n",
    "    \"prop_immune\": dist.Beta(3, 50)\n",
    "}"
   ]
  },
  {
   "cell_type": "markdown",
   "id": "310da405-49e3-4bea-aa23-c87e56bdbbc7",
   "metadata": {},
   "source": [
    "## Model calibration"
   ]
  },
  {
   "cell_type": "code",
   "execution_count": null,
   "id": "eeccf64e-d477-4243-be73-3781f860619f",
   "metadata": {},
   "outputs": [],
   "source": [
    "#| output: false\n",
    "calib = StandardCalib(renew_model, priors, select_data, indicator='weekly_sum')\n",
    "kernel = infer.NUTS(calib.calibration, dense_mass=True, init_strategy=infer.init_to_uniform(radius=0.5))\n",
    "mcmc = infer.MCMC(kernel, num_chains=4, num_samples=4000, num_warmup=500) \n",
    "mcmc.run(random.PRNGKey(123))"
   ]
  },
  {
   "cell_type": "markdown",
   "id": "6e2ff291-467f-4e24-a2f5-649feb797da2",
   "metadata": {},
   "source": [
    "## Wrangle model outputs"
   ]
  },
  {
   "cell_type": "code",
   "execution_count": null,
   "id": "48b48eef",
   "metadata": {},
   "outputs": [],
   "source": [
    "idata = az.from_dict(mcmc.get_samples(True))\n",
    "idata_sampled = az.extract(idata, num_samples=800)\n",
    "sample_params = esamp.xarray_to_sampleiterator(idata_sampled)"
   ]
  },
  {
   "cell_type": "code",
   "execution_count": null,
   "id": "3c511019-2a21-4452-afc2-e02e1c4a26f0",
   "metadata": {},
   "outputs": [],
   "source": [
    "# get model results and outputs\n",
    "def get_full_result(gen_mean, gen_sd, proc, cdr, rt_init, report_mean, report_sd, prop_immune):\n",
    "    return renew_model.renewal_func(gen_mean, gen_sd, proc, cdr, rt_init, report_mean, report_sd, prop_immune)\n",
    "\n",
    "full_wrap = jit(get_full_result)\n",
    "panel_subtitles = [\"weekly_sum\"] + PANEL_SUBTITLES[1:]\n",
    "spaghetti = get_spaghetti_from_params(renew_model, sample_params, full_wrap, outputs=panel_subtitles)\n",
    "quantiles_df = get_quant_df_from_spaghetti(renew_model, spaghetti, quantiles=[0.05, 0.5, 0.95], outputs=panel_subtitles)"
   ]
  },
  {
   "cell_type": "markdown",
   "id": "1dc44e23-7c5e-4b6c-b381-1ca85de05ebc",
   "metadata": {},
   "source": [
    "## Visualise model outputs and comparison against data"
   ]
  },
  {
   "cell_type": "code",
   "execution_count": null,
   "id": "f93eab4b-9060-4b53-ac59-a3e9d3c29454",
   "metadata": {},
   "outputs": [],
   "source": [
    "# Restrict range of mobility and vax data to analysis timeframe\n",
    "mobility_data = mobility_data.loc[analysis_start:analysis_end]\n",
    "vaccination_data = vaccination_data.loc[analysis_start:analysis_end]"
   ]
  },
  {
   "cell_type": "code",
   "execution_count": null,
   "id": "c372f8e1-7eff-49a6-be78-172c20b2d7e7",
   "metadata": {},
   "outputs": [],
   "source": [
    "# Build main result plot/figure\n",
    "fig = plotting.plot_main(quantiles_df, select_data, mobility_data, vaccination_data).update_layout(showlegend=False)\n",
    "\n",
    "# Add interventions and variant prevalence to plots\n",
    "number = 2\n",
    "\n",
    "for i in range(number):\n",
    "    fig.add_vrect(x0=datetime.strptime(\"2021-06-01\", \"%Y-%m-%d\").timestamp() * 1000, x1=datetime.strptime(\"2021-06-16\", \"%Y-%m-%d\").timestamp() * 1000,\n",
    "             annotation_text=\"\", annotation_position=\"right\",\n",
    "             fillcolor='#FFA15A', opacity=0.60, line_width=0.8, layer='below', row=1, col=i+1)\n",
    "    \n",
    "    delta = variant_data[variant_data['variant'] == 'Delta']\n",
    "    delta_week = delta['week'].to_string(index=False)\n",
    "    fig.add_vline(x=datetime.strptime(delta_week, \"%Y-%m-%d\").timestamp() * 1000, \n",
    "              annotation_text=\"Delta >50%\", annotation_position=\"bottom right\", row=1, col=i+1, line_dash=\"dash\")\n",
    "    \n",
    "    omicron = variant_data[variant_data['variant'] == 'Omicron_BA1_2']\n",
    "    omicron_week = omicron['week'].to_string(index=False)\n",
    "    fig.add_vline(x=datetime.strptime(omicron_week, \"%Y-%m-%d\").timestamp() * 1000, \n",
    "              annotation_text=\"Omicron >50%\", annotation_position=\"bottom right\", row=1, col=i+1, line_dash=\"dash\")\n",
    "    \n",
    "# add lockdown to mobility figure too\n",
    "fig.add_vrect(x0=datetime.strptime(\"2021-06-01\", \"%Y-%m-%d\").timestamp() * 1000, x1=datetime.strptime(\"2021-06-16\", \"%Y-%m-%d\").timestamp() * 1000,\n",
    "             annotation_text=\"\", annotation_position=\"right\",\n",
    "             fillcolor='#FFA15A', opacity=0.60, line_width=0.8, layer='below', row=3, col=1)\n",
    "\n",
    "fig['layout']['xaxis5']['title']='Date'\n",
    "fig['layout']['xaxis6']['title']='Date'\n",
    "fig['layout']['yaxis']['title']='Weekly reported cases'\n",
    "fig['layout']['yaxis2']['title']=''\n",
    "fig['layout']['yaxis3']['title']='Total persons susceptible'\n",
    "fig['layout']['yaxis4']['title']='' \n",
    "fig['layout']['yaxis5']['title']='% change from baseline'\n",
    "fig['layout']['yaxis6']['title']='% total population' \n",
    "\n",
    "\n",
    "fig.show()"
   ]
  },
  {
   "cell_type": "markdown",
   "id": "45608114-0991-4f20-a89b-60da43b39f9e",
   "metadata": {},
   "source": [
    "## Exploring model outputs and calculating attack rates"
   ]
  },
  {
   "cell_type": "code",
   "execution_count": null,
   "id": "e546555e-c19b-475c-b600-8de6fde80665",
   "metadata": {},
   "outputs": [],
   "source": [
    "# Quick code for exploring quantiles\n",
    "print(quantiles_df.loc['2022-1-1':'2022-1-30'])"
   ]
  },
  {
   "cell_type": "code",
   "execution_count": null,
   "id": "07b4458f-f56e-4b07-904f-76b38e89c823",
   "metadata": {},
   "outputs": [],
   "source": [
    "# Find max value for specified date range\n",
    "quantiles_df.loc['2022-1-1':'2022-2-20']['R'][0.95].max()"
   ]
  },
  {
   "cell_type": "code",
   "execution_count": null,
   "id": "a0c3450b-ec2f-4179-b5a2-9298de1c79dd",
   "metadata": {},
   "outputs": [],
   "source": [
    "# quick code for calculating final attack rate\n",
    "suscepts = quantiles_df['susceptibles']\n",
    "suscepts['AR_05'] = 1 - suscepts[0.05]/pop\n",
    "suscepts['AR_5'] = 1 - suscepts[0.50]/pop\n",
    "suscepts['AR_95'] = 1- suscepts[0.95]/pop"
   ]
  },
  {
   "cell_type": "code",
   "execution_count": null,
   "id": "7c9ba034-039c-46ce-af21-bf7180f34fc8",
   "metadata": {},
   "outputs": [],
   "source": [
    "suscepts.tail(5)"
   ]
  },
  {
   "cell_type": "markdown",
   "id": "7011e544-92a0-4709-aeb0-3b97ff9a7ddb",
   "metadata": {},
   "source": [
    "## Calibration results"
   ]
  },
  {
   "cell_type": "code",
   "execution_count": null,
   "id": "caa96fc0-ecd3-4dbb-bf00-f2d3416d07fc",
   "metadata": {},
   "outputs": [],
   "source": [
    "# summary table of calibration\n",
    "az.summary(idata, hdi_prob=0.95)"
   ]
  },
  {
   "cell_type": "code",
   "execution_count": null,
   "id": "ebe70f1e-644a-4fc9-9b29-5b5bbeccf6ed",
   "metadata": {},
   "outputs": [],
   "source": [
    "# prior-posterior comparison plot\n",
    "plot_post_prior_comparison(idata, [p for p in priors.keys() if p !=\"rt_init\"],priors);\n",
    "#plt.savefig('malaysia_posterior.png')"
   ]
  },
  {
   "cell_type": "code",
   "execution_count": null,
   "id": "851ec274-19c5-43c5-9417-fc135fc09dd0",
   "metadata": {},
   "outputs": [],
   "source": [
    "# trace and posterior plot\n",
    "az.plot_trace(idata)\n",
    "plt.tight_layout()\n",
    "#plt.savefig('malaysia_trace.png')"
   ]
  },
  {
   "cell_type": "markdown",
   "id": "d186fc90-079d-453e-be9c-2f08663a8485",
   "metadata": {},
   "source": [
    "## Model descriptions and table for supplement"
   ]
  },
  {
   "cell_type": "code",
   "execution_count": null,
   "id": "4215bfc0-65f7-473a-8b0b-6c38c1d61ace",
   "metadata": {},
   "outputs": [],
   "source": [
    "Markdown('## Model description')"
   ]
  },
  {
   "cell_type": "code",
   "execution_count": null,
   "id": "f61c462d-d5a4-4eee-ab28-2747a5c7b23b",
   "metadata": {},
   "outputs": [],
   "source": [
    "Markdown(renew_model.get_description())"
   ]
  },
  {
   "cell_type": "code",
   "execution_count": null,
   "id": "cb165d4d-f76e-4fdd-9c92-b0b50f3be20d",
   "metadata": {},
   "outputs": [],
   "source": [
    "Markdown('## Calibration')"
   ]
  },
  {
   "cell_type": "code",
   "execution_count": null,
   "id": "4136d982-6fa1-41dc-85b1-adecfe5236b6",
   "metadata": {},
   "outputs": [],
   "source": [
    "Markdown(calib.get_description())"
   ]
  },
  {
   "cell_type": "code",
   "execution_count": null,
   "id": "a2119adb-069f-456d-be2a-3f71cef74a8a",
   "metadata": {},
   "outputs": [],
   "source": [
    "param_sum = az.summary(idata)\n",
    "params = [i for i in param_sum.index if not any(s in i for s in [\"proc\", \"rt_init\"])]\n",
    "cols = [i for i in param_sum.columns if not any(s in i for s in [\"mcse_\"])]\n",
    "short_param_sum = param_sum.loc[params, cols]\n",
    "short_param_sum.columns = short_param_sum.columns.str.replace(\"_\", \" \").str.replace(\"ess\", \"ESS\").str.replace(\"hdi\", \"HDI\")\n",
    "param_str_conv = {\n",
    "    \"cdr\": \"CDR\",\n",
    "    \"gen_mean\": \"generation distribution mean (days)\",\n",
    "    \"gen_sd\": \"generation distribution SD (days)\",\n",
    "    \"report_mean\": \"reporting distribution mean (days)\",\n",
    "    \"report_sd\": \"reporting distribution SD (days)\",\n",
    "}\n",
    "col_str_conv = {\n",
    "    \"r hat\": \"R-hat\",\n",
    "    \"sd\": \"SD\",\n",
    "}\n",
    "short_param_sum = short_param_sum.rename(param_str_conv)\n",
    "short_param_sum = short_param_sum.rename(col_str_conv, axis=1)\n",
    "short_param_sum"
   ]
  },
  {
   "cell_type": "markdown",
   "id": "e28b1114-8560-4603-85be-290eee614570",
   "metadata": {},
   "source": [
    "## Export model, target and comparison data to excel for submission"
   ]
  },
  {
   "cell_type": "code",
   "execution_count": null,
   "id": "b062b2c6-0ec9-49cf-9e96-335bfa6e34a3",
   "metadata": {},
   "outputs": [],
   "source": [
    "with pd.ExcelWriter('Malaysia_results.xlsx') as writer:  \n",
    "    quantiles_df.to_excel(writer, sheet_name='Model_outputs')\n",
    "    select_data.to_excel(writer, sheet_name='WHO_weekly_cases')\n",
    "    mobility_data.to_excel(writer, sheet_name='Mobility_data')\n",
    "    vaccination_data.to_excel(writer, sheet_name='Vaccination_data')"
   ]
  }
 ],
 "metadata": {
  "kernelspec": {
   "display_name": "Python 3 (ipykernel)",
   "language": "python",
   "name": "python3"
  },
  "language_info": {
   "codemirror_mode": {
    "name": "ipython",
    "version": 3
   },
   "file_extension": ".py",
   "mimetype": "text/x-python",
   "name": "python",
   "nbconvert_exporter": "python",
   "pygments_lexer": "ipython3",
   "version": "3.10.18"
  }
 },
 "nbformat": 4,
 "nbformat_minor": 5
}
